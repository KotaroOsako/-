{
 "cells": [
  {
   "cell_type": "code",
   "execution_count": null,
   "id": "f358c828",
   "metadata": {},
   "outputs": [],
   "source": [
    "import pandas as pd\n",
    "import glob\n",
    "import numpy as np"
   ]
  },
  {
   "cell_type": "code",
   "execution_count": null,
   "id": "472ef9bc",
   "metadata": {},
   "outputs": [],
   "source": [
    "#ファイル読み込み\n",
    "df = pd.DataFrame()\n",
    "for i in glob.glob(\"train/*.csv*\"):\n",
    "    tmp_df=pd.read_csv(i)\n",
    "    df = pd.concat([df, tmp_df],ignore_index=True)"
   ]
  },
  {
   "cell_type": "code",
   "execution_count": null,
   "id": "ecc1a651",
   "metadata": {},
   "outputs": [],
   "source": [
    "#欠損値確認,欠損値削除\n",
    "df_rownum=df.shape[0]\n",
    "df_null_column=df.columns[df.isnull().sum()==df_rownum]\n",
    "df=df.drop(df_null_column,axis=1)"
   ]
  },
  {
   "cell_type": "code",
   "execution_count": null,
   "id": "3805d13f",
   "metadata": {},
   "outputs": [],
   "source": [
    "df.drop(['ID',\n",
    "         '種類',\n",
    "#                '地区名',\n",
    "#                '最寄駅：名称',\n",
    "        '市区町村コード',\n",
    "#                '用途',\n",
    "#                '市区町村名',\n",
    "#                '間取り',\n",
    "#                '建物の構造',\n",
    "#                '都市計画'\n",
    "              ],inplace=True,axis=1)\n",
    "df[\"取引の事情等\"].fillna(0, inplace=True)\n",
    "df.loc[df[\"取引の事情等\"] != 0, \"取引の事情等\"] = 1"
   ]
  },
  {
   "cell_type": "code",
   "execution_count": null,
   "id": "0ba80ebd",
   "metadata": {},
   "outputs": [],
   "source": [
    "#欠損値の多い列を削除\n",
    "df=df.drop(['今後の利用目的'],axis=1)"
   ]
  },
  {
   "cell_type": "code",
   "execution_count": null,
   "id": "a196cffa",
   "metadata": {},
   "outputs": [],
   "source": [
    "#各列のユニークな値を抽出\n",
    "unique_value=df.apply(pd.Series.unique)\n",
    "# print(unique_value['都道府県名'])"
   ]
  },
  {
   "cell_type": "code",
   "execution_count": null,
   "id": "a04cadb4",
   "metadata": {},
   "outputs": [],
   "source": [
    "df_edit1=df.copy()\n",
    "df_edit1.dropna(inplace=True)\n",
    "df_edit1.loc[df_edit1['建築年']=='戦前','建築年']='昭和20年'\n",
    "df_edit1['和暦名称']=df_edit1['建築年'].str[:2]\n",
    "df_edit1['西暦']=df_edit1['建築年'].str[2:-1]\n",
    "df_edit1['西暦'].unique()\n",
    "df_edit1['西暦']=df_edit1['西暦'].astype(int)\n",
    "df_edit1.loc[df_edit1['和暦名称']=='昭和','西暦']+=1925\n",
    "df_edit1.loc[df_edit1['和暦名称']=='平成','西暦']+=1988\n",
    "df_edit1.loc[df_edit1['和暦名称']=='令和','西暦']+=2018\n",
    "df_edit1.drop(['和暦名称','建築年'],inplace=True,axis=1)\n",
    "df_edit1.loc[df_edit1['最寄駅：距離（分）']=='30分?60分','最寄駅：距離（分）']=45\n",
    "df_edit1.loc[df_edit1['最寄駅：距離（分）']=='1H?1H30','最寄駅：距離（分）']=75\n",
    "df_edit1.loc[df_edit1['最寄駅：距離（分）']=='1H30?2H','最寄駅：距離（分）']=105\n",
    "df_edit1.loc[df_edit1['最寄駅：距離（分）']=='2H?','最寄駅：距離（分）']=120\n",
    "df_edit1['取引時点年数']=df_edit1['取引時点'].str[:4]\n",
    "df_edit1['四半期']=df_edit1['取引時点'].str[5:]\n",
    "df_edit1.loc[df_edit1['四半期']=='第2四半期','取引時点年数']+='.25'\n",
    "df_edit1.loc[df_edit1['四半期']=='第3四半期','取引時点年数']+='.5'\n",
    "df_edit1.loc[df_edit1['四半期']=='第4四半期','取引時点年数']+='.75'\n",
    "df_edit1.drop(['取引時点'],\n",
    "#                '四半期'],\n",
    "              inplace=True,axis=1)"
   ]
  },
  {
   "cell_type": "code",
   "execution_count": null,
   "id": "d186cd7d",
   "metadata": {},
   "outputs": [],
   "source": [
    "df_edit1.loc[df_edit1['面積（㎡）']=='2000㎡以上','面積（㎡）']='2000'"
   ]
  },
  {
   "cell_type": "code",
   "execution_count": null,
   "id": "dc5b4769",
   "metadata": {},
   "outputs": [],
   "source": [
    "df_edit1['最寄駅：距離（分）']=df_edit1['最寄駅：距離（分）'].astype(float)\n",
    "df_edit1['面積（㎡）']=df_edit1['面積（㎡）'].astype(int)\n",
    "df_edit1['西暦']=df_edit1['西暦'].astype(int)\n",
    "df_edit1['取引時点年数']=df_edit1['取引時点年数'].astype(float)\n",
    "df_edit1['容積率（％）']=df_edit1['容積率（％）'].astype(float)\n",
    "df_edit1['建ぺい率（％）']=df_edit1['建ぺい率（％）'].astype(float)\n",
    "df_edit1['取引価格（総額）_log']=df_edit1['取引価格（総額）_log'].astype(float)"
   ]
  },
  {
   "cell_type": "code",
   "execution_count": null,
   "id": "009f2536",
   "metadata": {},
   "outputs": [],
   "source": [
    "df_test=df_edit1['取引価格（総額）_log']\n",
    "df_edit1.drop('取引価格（総額）_log',inplace=True,axis=1)"
   ]
  },
  {
   "cell_type": "code",
   "execution_count": null,
   "id": "7d587cdd",
   "metadata": {
    "hide_input": true
   },
   "outputs": [],
   "source": [
    "# df_dummy=pd.get_dummies(df_edit1[[\n",
    "# #     '市区町村コード',\n",
    "#     '都道府県名',\n",
    "#     '市区町村名',\n",
    "#     '最寄駅：名称',\n",
    "#      '間取り',\n",
    "#      '建物の構造',\n",
    "# #     '用途',\n",
    "#     '都市計画',\n",
    "#     '改装']],drop_first=True)\n",
    "# df_dummy = pd.concat([df_edit1, df_dummy], axis=1)\n",
    "# df_dummy.drop(['都道府県名', \n",
    "#                '市区町村名',\n",
    "#                '間取り',\n",
    "#                 '建物の構造',\n",
    "#                 '都市計画',\n",
    "#                '改装'],axis=1,inplace=True)"
   ]
  },
  {
   "cell_type": "code",
   "execution_count": null,
   "id": "a6c3aa9c",
   "metadata": {},
   "outputs": [],
   "source": [
    "from sklearn.preprocessing import OrdinalEncoder\n",
    "oe = OrdinalEncoder()\n",
    "\n",
    "labels = df_edit1[[\n",
    "#     '市区町村コード',\n",
    "    '都道府県名',\n",
    "    '市区町村名',\n",
    "    '最寄駅：名称',\n",
    "     '間取り',\n",
    "     '建物の構造',\n",
    "    '地区名',\n",
    "     '用途',\n",
    "    '都市計画',\n",
    "    '四半期',\n",
    "    '改装']].values\n",
    "labels_id = oe.fit_transform(labels)\n",
    "# df_dummy = pd.concat([df_edit1, labels_id], axis=1)\n",
    "# df_dummy.drop(['都道府県名', \n",
    "#                '市区町村名',\n",
    "#                '間取り',\n",
    "#                 '建物の構造',\n",
    "#                 '都市計画',\n",
    "#                '改装'],axis=1,inplace=True)\n",
    "df_dummy = pd.concat([df_edit1.reset_index(drop=True), pd.DataFrame(labels_id)], axis=1)\n",
    "df_dummy.drop(['都道府県名',\n",
    "               '市区町村名', \n",
    "               '四半期',\n",
    "               '間取り', \n",
    "               '建物の構造', \n",
    "               '都市計画',\n",
    "               '最寄駅：名称',\n",
    "               '地区名',\n",
    "               '用途',\n",
    "               '改装'], axis=1, inplace=True)\n",
    "print(labels_id.shape) "
   ]
  },
  {
   "cell_type": "code",
   "execution_count": null,
   "id": "217221a9",
   "metadata": {},
   "outputs": [],
   "source": [
    "df_dummy"
   ]
  },
  {
   "cell_type": "code",
   "execution_count": null,
   "id": "27f60499",
   "metadata": {},
   "outputs": [],
   "source": [
    "df_dummy['面積（㎡）']=np.log(df_dummy['面積（㎡）'])\n",
    "df_dummy['面積（㎡）'].replace([np.inf, -np.inf], np.nan, inplace=True)\n",
    "df_dummy['面積（㎡）'].fillna(0,inplace=True)"
   ]
  },
  {
   "cell_type": "code",
   "execution_count": null,
   "id": "6fb13f02",
   "metadata": {},
   "outputs": [],
   "source": [
    "df_dummy['最寄駅：距離（分）']=np.log(df_dummy['最寄駅：距離（分）'])\n",
    "df_dummy['最寄駅：距離（分）'].replace([np.inf, -np.inf], np.nan, inplace=True)\n",
    "df_dummy['最寄駅：距離（分）'].fillna(0,inplace=True)"
   ]
  },
  {
   "cell_type": "code",
   "execution_count": null,
   "id": "cd148e04",
   "metadata": {},
   "outputs": [],
   "source": [
    "df_dummy['建ぺい率×容積率']=df_dummy['建ぺい率（％）']*df_dummy['容積率（％）']"
   ]
  },
  {
   "cell_type": "code",
   "execution_count": null,
   "id": "bdb0e346",
   "metadata": {},
   "outputs": [],
   "source": [
    "df_dummy['敷地面積']=df_dummy['面積（㎡）']/df_dummy['建ぺい率（％）']*100"
   ]
  },
  {
   "cell_type": "code",
   "execution_count": null,
   "id": "2c80d6d6",
   "metadata": {},
   "outputs": [],
   "source": [
    "df_dummy['延べ床面積']=df_dummy['容積率（％）']/100*df_dummy['敷地面積']"
   ]
  },
  {
   "cell_type": "code",
   "execution_count": null,
   "id": "9ac9cb53",
   "metadata": {},
   "outputs": [],
   "source": [
    "df_dummy['年差']=df_dummy['西暦']-df_dummy['取引時点年数']"
   ]
  },
  {
   "cell_type": "code",
   "execution_count": null,
   "id": "9f7e336d",
   "metadata": {},
   "outputs": [],
   "source": [
    "df_dummy.isnull().sum()"
   ]
  },
  {
   "cell_type": "code",
   "execution_count": null,
   "id": "1f26ee83",
   "metadata": {},
   "outputs": [],
   "source": [
    "# df_dummy['最寄駅：距離（分）'].max()"
   ]
  },
  {
   "cell_type": "code",
   "execution_count": null,
   "id": "69fba44d",
   "metadata": {},
   "outputs": [],
   "source": [
    "from sklearn.model_selection import train_test_split\n",
    "X_train, X_test, y_train, y_test = train_test_split(df_dummy, df_test, test_size=0.2, random_state=41)"
   ]
  },
  {
   "cell_type": "code",
   "execution_count": null,
   "id": "836cfb4e",
   "metadata": {},
   "outputs": [],
   "source": [
    "from sklearn.pipeline import make_pipeline\n",
    "from sklearn.pipeline import Pipeline\n",
    "from sklearn.preprocessing import StandardScaler\n",
    "from sklearn.linear_model import Ridge,Lasso\n",
    "from sklearn.metrics import mean_squared_error\n",
    "from sklearn.metrics import mean_absolute_error\n",
    "import xgboost as xgb\n",
    "import numpy as np\n",
    "xgb_r = xgb.XGBRegressor(objective='reg:linear',\n",
    "                          n_estimators=500,\n",
    "                          max_depth=8,\n",
    "#                           gamma=5,\n",
    "                          seed=123)\n",
    "\n",
    "pipe = Pipeline([\n",
    "    ('scaler', StandardScaler()),\n",
    "    ('regressor',xgb_r)\n",
    "])\n",
    "pipe.fit(X_train, y_train)\n",
    "y_pred = pipe.predict(X_train)\n",
    "# y_trueは実際の値、y_predは予測値\n",
    "mse = mean_squared_error(y_train, y_pred)\n",
    "rmse = np.sqrt(mse)\n",
    "print(\"RMSE:\", rmse)\n",
    "y_pred = pipe.predict(X_test)\n",
    "mse = mean_squared_error(y_test, y_pred)\n",
    "mae=mean_absolute_error(y_test, y_pred)\n",
    "rmse = np.sqrt(mse)\n",
    "print(\"RMSE:\", rmse)\n",
    "print(mae)"
   ]
  },
  {
   "cell_type": "code",
   "execution_count": null,
   "id": "f6deafd6",
   "metadata": {},
   "outputs": [],
   "source": [
    "# coefficients = pipe.named_steps['regressor'].coef_\n",
    "# # 各特徴量の係数を出力\n",
    "# for i, col_name in enumerate(X_train.columns):\n",
    "#     print(f\"{col_name}: {coefficients[i]}\")"
   ]
  },
  {
   "cell_type": "code",
   "execution_count": null,
   "id": "0ae1cdc2",
   "metadata": {},
   "outputs": [],
   "source": [
    "pipe.named_steps"
   ]
  },
  {
   "cell_type": "code",
   "execution_count": null,
   "id": "e18ea7bd",
   "metadata": {},
   "outputs": [],
   "source": [
    "df_dummy"
   ]
  },
  {
   "cell_type": "code",
   "execution_count": null,
   "id": "ec0767b5",
   "metadata": {
    "hide_input": true
   },
   "outputs": [],
   "source": [
    "import seaborn as sns\n",
    "import japanize_matplotlib\n",
    "import matplotlib.pyplot as plt\n",
    "# sns.set(font='Hiragino Sans')zz\n",
    "sns.pairplot(df_dummy[['最寄駅：距離（分）', '面積（㎡）', '建ぺい率（％）','容積率（％）','西暦','取引時点年数',]])"
   ]
  },
  {
   "cell_type": "code",
   "execution_count": null,
   "id": "c6e1c1f2",
   "metadata": {
    "scrolled": true
   },
   "outputs": [],
   "source": [
    "plt.scatter(x=(df_dummy['西暦']), y=np.log(df_dummy['面積（㎡）']))"
   ]
  },
  {
   "cell_type": "code",
   "execution_count": null,
   "id": "2cf4f1d1",
   "metadata": {},
   "outputs": [],
   "source": [
    "df_dummy['最寄駅：距離（分）']"
   ]
  },
  {
   "cell_type": "code",
   "execution_count": null,
   "id": "63a0dd1b",
   "metadata": {},
   "outputs": [],
   "source": [
    "np.log(df_dummy['最寄駅：距離（分）']).isnull().sum()"
   ]
  },
  {
   "cell_type": "code",
   "execution_count": null,
   "id": "83bf250a",
   "metadata": {},
   "outputs": [],
   "source": [
    "import japanize_matplotlib\n",
    "import matplotlib.pyplot as plt\n",
    "plt.hist(df_dummy['西暦']-df_dummy['取引時点年数'])"
   ]
  },
  {
   "cell_type": "code",
   "execution_count": null,
   "id": "b65006f4",
   "metadata": {},
   "outputs": [],
   "source": []
  }
 ],
 "metadata": {
  "kernelspec": {
   "display_name": "Python 3 (ipykernel)",
   "language": "python",
   "name": "python3"
  },
  "language_info": {
   "codemirror_mode": {
    "name": "ipython",
    "version": 3
   },
   "file_extension": ".py",
   "mimetype": "text/x-python",
   "name": "python",
   "nbconvert_exporter": "python",
   "pygments_lexer": "ipython3",
   "version": "3.9.6"
  }
 },
 "nbformat": 4,
 "nbformat_minor": 5
}
